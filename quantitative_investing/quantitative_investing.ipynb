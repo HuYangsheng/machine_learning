{
 "cells": [
  {
   "cell_type": "markdown",
   "metadata": {},
   "source": [
    "### 股票预测项目\n",
    "本项目的目的是通过股票的历史行情价格来预测未来某只股票的涨跌。 问题本身其实就是二分类问题。数据是通过```tushare```库来获取到的，在压缩包里已经给出了一只股票的数据。本作业的目的是：\n",
    "1. 根据已经给定的数据，构造出样本数据。在样本数据的构造过程我们需要使用特征工程，这个特征工程其实就是技术指标的提取。 \n",
    "2. 提取完技术指标之后，做一些简单的数据处理\n",
    "3. 构造训练数据和测试数据\n",
    "4. 利用随机森林学习二分类器\n",
    "\n",
    "本项目的重点是技术指标的提取，建议可以去看一下每一个技术指标是如何定义的。\n",
    "\n",
    "预估项目完成时间： 2小时"
   ]
  },
  {
   "cell_type": "code",
   "execution_count": 40,
   "metadata": {},
   "outputs": [],
   "source": [
    "# 导入相应的函数库\n",
    "import pandas as pd\n",
    "import datetime\n",
    "import numpy as np\n",
    "from sklearn.model_selection import train_test_split\n",
    "from sklearn.model_selection import GridSearchCV\n",
    "from sklearn.ensemble import RandomForestClassifier\n",
    "from sklearn.metrics import f1_score\n",
    "import matplotlib.pyplot as plt\n",
    "\n",
    "# 技术指标的提取函数\n",
    "from technical_indicators import *"
   ]
  },
  {
   "cell_type": "code",
   "execution_count": 3,
   "metadata": {},
   "outputs": [
    {
     "data": {
      "text/html": [
       "<div>\n",
       "<style scoped>\n",
       "    .dataframe tbody tr th:only-of-type {\n",
       "        vertical-align: middle;\n",
       "    }\n",
       "\n",
       "    .dataframe tbody tr th {\n",
       "        vertical-align: top;\n",
       "    }\n",
       "\n",
       "    .dataframe thead th {\n",
       "        text-align: right;\n",
       "    }\n",
       "</style>\n",
       "<table border=\"1\" class=\"dataframe\">\n",
       "  <thead>\n",
       "    <tr style=\"text-align: right;\">\n",
       "      <th></th>\n",
       "      <th>date</th>\n",
       "      <th>open</th>\n",
       "      <th>high</th>\n",
       "      <th>close</th>\n",
       "      <th>low</th>\n",
       "      <th>volume</th>\n",
       "      <th>price_change</th>\n",
       "      <th>p_change</th>\n",
       "      <th>ma5</th>\n",
       "      <th>ma10</th>\n",
       "      <th>ma20</th>\n",
       "      <th>v_ma5</th>\n",
       "      <th>v_ma10</th>\n",
       "      <th>v_ma20</th>\n",
       "    </tr>\n",
       "  </thead>\n",
       "  <tbody>\n",
       "    <tr>\n",
       "      <th>0</th>\n",
       "      <td>2019-09-12</td>\n",
       "      <td>1066.00</td>\n",
       "      <td>1109.98</td>\n",
       "      <td>1099.00</td>\n",
       "      <td>1066.00</td>\n",
       "      <td>41211.33</td>\n",
       "      <td>29.48</td>\n",
       "      <td>2.76</td>\n",
       "      <td>1114.276</td>\n",
       "      <td>1126.115</td>\n",
       "      <td>1108.345</td>\n",
       "      <td>40942.17</td>\n",
       "      <td>37385.21</td>\n",
       "      <td>37563.02</td>\n",
       "    </tr>\n",
       "    <tr>\n",
       "      <th>1</th>\n",
       "      <td>2019-09-11</td>\n",
       "      <td>1119.22</td>\n",
       "      <td>1119.97</td>\n",
       "      <td>1069.52</td>\n",
       "      <td>1068.00</td>\n",
       "      <td>81716.54</td>\n",
       "      <td>-54.33</td>\n",
       "      <td>-4.83</td>\n",
       "      <td>1123.276</td>\n",
       "      <td>1127.525</td>\n",
       "      <td>1105.640</td>\n",
       "      <td>39286.08</td>\n",
       "      <td>36197.12</td>\n",
       "      <td>36864.33</td>\n",
       "    </tr>\n",
       "    <tr>\n",
       "      <th>2</th>\n",
       "      <td>2019-09-10</td>\n",
       "      <td>1134.30</td>\n",
       "      <td>1135.00</td>\n",
       "      <td>1123.85</td>\n",
       "      <td>1120.01</td>\n",
       "      <td>26227.07</td>\n",
       "      <td>-12.67</td>\n",
       "      <td>-1.11</td>\n",
       "      <td>1134.374</td>\n",
       "      <td>1130.584</td>\n",
       "      <td>1104.330</td>\n",
       "      <td>29662.81</td>\n",
       "      <td>32726.43</td>\n",
       "      <td>34849.05</td>\n",
       "    </tr>\n",
       "    <tr>\n",
       "      <th>3</th>\n",
       "      <td>2019-09-09</td>\n",
       "      <td>1145.00</td>\n",
       "      <td>1148.00</td>\n",
       "      <td>1136.52</td>\n",
       "      <td>1135.00</td>\n",
       "      <td>29379.34</td>\n",
       "      <td>-5.97</td>\n",
       "      <td>-0.52</td>\n",
       "      <td>1137.604</td>\n",
       "      <td>1129.099</td>\n",
       "      <td>1099.035</td>\n",
       "      <td>30314.42</td>\n",
       "      <td>35320.15</td>\n",
       "      <td>35054.18</td>\n",
       "    </tr>\n",
       "    <tr>\n",
       "      <th>4</th>\n",
       "      <td>2019-09-06</td>\n",
       "      <td>1144.50</td>\n",
       "      <td>1146.15</td>\n",
       "      <td>1142.49</td>\n",
       "      <td>1131.00</td>\n",
       "      <td>26176.59</td>\n",
       "      <td>-1.51</td>\n",
       "      <td>-0.13</td>\n",
       "      <td>1138.052</td>\n",
       "      <td>1125.742</td>\n",
       "      <td>1093.141</td>\n",
       "      <td>30085.41</td>\n",
       "      <td>37232.00</td>\n",
       "      <td>37660.16</td>\n",
       "    </tr>\n",
       "  </tbody>\n",
       "</table>\n",
       "</div>"
      ],
      "text/plain": [
       "         date     open     high    close      low    volume  price_change  \\\n",
       "0  2019-09-12  1066.00  1109.98  1099.00  1066.00  41211.33         29.48   \n",
       "1  2019-09-11  1119.22  1119.97  1069.52  1068.00  81716.54        -54.33   \n",
       "2  2019-09-10  1134.30  1135.00  1123.85  1120.01  26227.07        -12.67   \n",
       "3  2019-09-09  1145.00  1148.00  1136.52  1135.00  29379.34         -5.97   \n",
       "4  2019-09-06  1144.50  1146.15  1142.49  1131.00  26176.59         -1.51   \n",
       "\n",
       "   p_change       ma5      ma10      ma20     v_ma5    v_ma10    v_ma20  \n",
       "0      2.76  1114.276  1126.115  1108.345  40942.17  37385.21  37563.02  \n",
       "1     -4.83  1123.276  1127.525  1105.640  39286.08  36197.12  36864.33  \n",
       "2     -1.11  1134.374  1130.584  1104.330  29662.81  32726.43  34849.05  \n",
       "3     -0.52  1137.604  1129.099  1099.035  30314.42  35320.15  35054.18  \n",
       "4     -0.13  1138.052  1125.742  1093.141  30085.41  37232.00  37660.16  "
      ]
     },
     "execution_count": 3,
     "metadata": {},
     "output_type": "execute_result"
    }
   ],
   "source": [
    "# 导入股票数据，下面的股票数据是通过tushare库来获得的\n",
    "stock = pd.read_csv(\"./600519.csv\")\n",
    "stock.head()"
   ]
  },
  {
   "cell_type": "markdown",
   "metadata": {},
   "source": [
    "### 1. 对于股票数据提取技术指标\n",
    "直接调用给定的技术指标库来获得这些数据， 但建议大家可以简单看一下这些指标是如何被计算出来的。 虽然没必要一定要掌握，但大致的计算逻辑可以学习一下的。 如果对某一种指标感兴趣，想深入理解建议在百度上搜索 ： “技术指标” + “指标名字”来获得相关的参考资料，比如搜索 “技术指标” + 'rate of change\"， 有大量的资料可以参考的。\n",
    "\n",
    "> ```TODO1```: 提取技术指标"
   ]
  },
  {
   "cell_type": "code",
   "execution_count": 4,
   "metadata": {},
   "outputs": [],
   "source": [
    "# TODO: 提取各类技术指标， 你可以把所有的技术指标全部调用一遍，也可以选择几个来尝试。 或者感兴趣的话，可以把其他的技术指标也加进来。 \n",
    "#       每个技术指标的参数是不一样的，但基本也就1-2个参数，最常用的参数是天数（函数里用n来表示）， 有些技术指标需要传入两个参数（比如MACD，\n",
    "#       一个是针对于fast_line, 一个是针对于slow_line, 需要分别定义天数）。 由于每个指标都有参数，所以针对于同一类指标其实可以提取很多不同的特征的！\n",
    "\n",
    "# 例子： stock = average_directional_movement_index(stock, 12, 26) #  提取技术指标并存放在新的dataframe中\n",
    "\n",
    "stock = moving_average(stock, 5)  # 提取五天股价的moving_average\n",
    "stock = exponential_moving_average(stock, 5)\n",
    "stock = rate_of_change(stock, 5)  # 提取五天的变化率\n",
    "stock = standard_deviation(stock, 5)"
   ]
  },
  {
   "cell_type": "code",
   "execution_count": 26,
   "metadata": {},
   "outputs": [
    {
     "data": {
      "text/html": [
       "<div>\n",
       "<style scoped>\n",
       "    .dataframe tbody tr th:only-of-type {\n",
       "        vertical-align: middle;\n",
       "    }\n",
       "\n",
       "    .dataframe tbody tr th {\n",
       "        vertical-align: top;\n",
       "    }\n",
       "\n",
       "    .dataframe thead th {\n",
       "        text-align: right;\n",
       "    }\n",
       "</style>\n",
       "<table border=\"1\" class=\"dataframe\">\n",
       "  <thead>\n",
       "    <tr style=\"text-align: right;\">\n",
       "      <th></th>\n",
       "      <th>open</th>\n",
       "      <th>high</th>\n",
       "      <th>close</th>\n",
       "      <th>low</th>\n",
       "      <th>volume</th>\n",
       "      <th>price_change</th>\n",
       "      <th>p_change</th>\n",
       "      <th>ma5</th>\n",
       "      <th>ma10</th>\n",
       "      <th>ma20</th>\n",
       "      <th>v_ma5</th>\n",
       "      <th>v_ma10</th>\n",
       "      <th>v_ma20</th>\n",
       "      <th>MA_5</th>\n",
       "      <th>EMA_5</th>\n",
       "      <th>ROC_5</th>\n",
       "      <th>STD_5</th>\n",
       "      <th>y</th>\n",
       "    </tr>\n",
       "  </thead>\n",
       "  <tbody>\n",
       "    <tr>\n",
       "      <th>0</th>\n",
       "      <td>1066.00</td>\n",
       "      <td>1109.98</td>\n",
       "      <td>1099.00</td>\n",
       "      <td>1066.00</td>\n",
       "      <td>41211.33</td>\n",
       "      <td>29.48</td>\n",
       "      <td>2.76</td>\n",
       "      <td>1114.276</td>\n",
       "      <td>1126.115</td>\n",
       "      <td>1108.345</td>\n",
       "      <td>40942.17</td>\n",
       "      <td>37385.21</td>\n",
       "      <td>37563.02</td>\n",
       "      <td>682.881331</td>\n",
       "      <td>682.880907</td>\n",
       "      <td>-0.006290</td>\n",
       "      <td>12.320670</td>\n",
       "      <td>1.0</td>\n",
       "    </tr>\n",
       "    <tr>\n",
       "      <th>1</th>\n",
       "      <td>1119.22</td>\n",
       "      <td>1119.97</td>\n",
       "      <td>1069.52</td>\n",
       "      <td>1068.00</td>\n",
       "      <td>81716.54</td>\n",
       "      <td>-54.33</td>\n",
       "      <td>-4.83</td>\n",
       "      <td>1123.276</td>\n",
       "      <td>1127.525</td>\n",
       "      <td>1105.640</td>\n",
       "      <td>39286.08</td>\n",
       "      <td>36197.12</td>\n",
       "      <td>36864.33</td>\n",
       "      <td>682.881331</td>\n",
       "      <td>682.880907</td>\n",
       "      <td>-0.006290</td>\n",
       "      <td>12.320670</td>\n",
       "      <td>0.0</td>\n",
       "    </tr>\n",
       "    <tr>\n",
       "      <th>2</th>\n",
       "      <td>1134.30</td>\n",
       "      <td>1135.00</td>\n",
       "      <td>1123.85</td>\n",
       "      <td>1120.01</td>\n",
       "      <td>26227.07</td>\n",
       "      <td>-12.67</td>\n",
       "      <td>-1.11</td>\n",
       "      <td>1134.374</td>\n",
       "      <td>1130.584</td>\n",
       "      <td>1104.330</td>\n",
       "      <td>29662.81</td>\n",
       "      <td>32726.43</td>\n",
       "      <td>34849.05</td>\n",
       "      <td>682.881331</td>\n",
       "      <td>682.880907</td>\n",
       "      <td>-0.006290</td>\n",
       "      <td>12.320670</td>\n",
       "      <td>0.0</td>\n",
       "    </tr>\n",
       "    <tr>\n",
       "      <th>3</th>\n",
       "      <td>1145.00</td>\n",
       "      <td>1148.00</td>\n",
       "      <td>1136.52</td>\n",
       "      <td>1135.00</td>\n",
       "      <td>29379.34</td>\n",
       "      <td>-5.97</td>\n",
       "      <td>-0.52</td>\n",
       "      <td>1137.604</td>\n",
       "      <td>1129.099</td>\n",
       "      <td>1099.035</td>\n",
       "      <td>30314.42</td>\n",
       "      <td>35320.15</td>\n",
       "      <td>35054.18</td>\n",
       "      <td>682.881331</td>\n",
       "      <td>682.880907</td>\n",
       "      <td>-0.006290</td>\n",
       "      <td>12.320670</td>\n",
       "      <td>0.0</td>\n",
       "    </tr>\n",
       "    <tr>\n",
       "      <th>4</th>\n",
       "      <td>1144.50</td>\n",
       "      <td>1146.15</td>\n",
       "      <td>1142.49</td>\n",
       "      <td>1131.00</td>\n",
       "      <td>26176.59</td>\n",
       "      <td>-1.51</td>\n",
       "      <td>-0.13</td>\n",
       "      <td>1138.052</td>\n",
       "      <td>1125.742</td>\n",
       "      <td>1093.141</td>\n",
       "      <td>30085.41</td>\n",
       "      <td>37232.00</td>\n",
       "      <td>37660.16</td>\n",
       "      <td>1114.276000</td>\n",
       "      <td>1126.184123</td>\n",
       "      <td>0.039572</td>\n",
       "      <td>30.078824</td>\n",
       "      <td>0.0</td>\n",
       "    </tr>\n",
       "  </tbody>\n",
       "</table>\n",
       "</div>"
      ],
      "text/plain": [
       "      open     high    close      low    volume  price_change  p_change  \\\n",
       "0  1066.00  1109.98  1099.00  1066.00  41211.33         29.48      2.76   \n",
       "1  1119.22  1119.97  1069.52  1068.00  81716.54        -54.33     -4.83   \n",
       "2  1134.30  1135.00  1123.85  1120.01  26227.07        -12.67     -1.11   \n",
       "3  1145.00  1148.00  1136.52  1135.00  29379.34         -5.97     -0.52   \n",
       "4  1144.50  1146.15  1142.49  1131.00  26176.59         -1.51     -0.13   \n",
       "\n",
       "        ma5      ma10      ma20     v_ma5    v_ma10    v_ma20         MA_5  \\\n",
       "0  1114.276  1126.115  1108.345  40942.17  37385.21  37563.02   682.881331   \n",
       "1  1123.276  1127.525  1105.640  39286.08  36197.12  36864.33   682.881331   \n",
       "2  1134.374  1130.584  1104.330  29662.81  32726.43  34849.05   682.881331   \n",
       "3  1137.604  1129.099  1099.035  30314.42  35320.15  35054.18   682.881331   \n",
       "4  1138.052  1125.742  1093.141  30085.41  37232.00  37660.16  1114.276000   \n",
       "\n",
       "         EMA_5     ROC_5      STD_5    y  \n",
       "0   682.880907 -0.006290  12.320670  1.0  \n",
       "1   682.880907 -0.006290  12.320670  0.0  \n",
       "2   682.880907 -0.006290  12.320670  0.0  \n",
       "3   682.880907 -0.006290  12.320670  0.0  \n",
       "4  1126.184123  0.039572  30.078824  0.0  "
      ]
     },
     "execution_count": 26,
     "metadata": {},
     "output_type": "execute_result"
    }
   ],
   "source": [
    "stock.head()"
   ]
  },
  {
   "cell_type": "markdown",
   "metadata": {},
   "source": [
    "### 2. 数据处理，以及训练样本和测试样本的提取\n",
    "通过上面的环节我们已经提取好了所需要的技术指标。 接下来的环节是通过这批数据来构造训练数据和测试数据了。 \n",
    "注：数据中存在着NAN，稍微思考一下为什么会出现这些NAN？ 为了去理解这些NAN的源头，需要看一下pandas里的rolling().mean()是如何工作的。在项目中，我们是通过历史一段时间的数据来预测未来的涨跌的，所以一定不能使用未来数据来预测未来，只能用历史数据来预测未来。 \n",
    "\n",
    "> ```TODO2```： 做必要的数据预处理，并构建好样本数据。这里我们要预测的标签是第二天的涨跌。如果第二天的```close```价格 >  第一天的```close```价格，我们可以认为这个样本为正样本（1）， 如果价格小于第一天的```close```价格，就认为这个样本为负样本（0）。 构建完训练样本之后，在把样本通过```train_test_split```来划分为训练集和测试集。"
   ]
  },
  {
   "cell_type": "code",
   "execution_count": 11,
   "metadata": {},
   "outputs": [
    {
     "name": "stdout",
     "output_type": "stream",
     "text": [
      "<class 'pandas.core.frame.DataFrame'>\n",
      "RangeIndex: 614 entries, 0 to 613\n",
      "Data columns (total 18 columns):\n",
      "date            614 non-null object\n",
      "open            614 non-null float64\n",
      "high            614 non-null float64\n",
      "close           614 non-null float64\n",
      "low             614 non-null float64\n",
      "volume          614 non-null float64\n",
      "price_change    614 non-null float64\n",
      "p_change        614 non-null float64\n",
      "ma5             614 non-null float64\n",
      "ma10            614 non-null float64\n",
      "ma20            614 non-null float64\n",
      "v_ma5           614 non-null float64\n",
      "v_ma10          614 non-null float64\n",
      "v_ma20          614 non-null float64\n",
      "MA_5            614 non-null float64\n",
      "EMA_5           614 non-null float64\n",
      "ROC_5           614 non-null float64\n",
      "STD_5           614 non-null float64\n",
      "dtypes: float64(17), object(1)\n",
      "memory usage: 86.4+ KB\n"
     ]
    }
   ],
   "source": [
    "stock.info()"
   ]
  },
  {
   "cell_type": "code",
   "execution_count": 10,
   "metadata": {},
   "outputs": [],
   "source": [
    "# 利用均值进行缺失值填充\n",
    "for column in list(stock.columns[stock.isnull().sum() > 0]):\n",
    "    mean_val = stock[column].mean()\n",
    "    stock[column].fillna(mean_val, inplace=True)"
   ]
  },
  {
   "cell_type": "code",
   "execution_count": 22,
   "metadata": {},
   "outputs": [],
   "source": [
    "# 构造标签项\n",
    "for i in range(len(stock['close'])-1):\n",
    "    if stock['close'][i] > stock['close'][i+1]:\n",
    "        stock.loc[i,'y'] = 1\n",
    "    else:\n",
    "        stock.loc[i,'y'] = 0"
   ]
  },
  {
   "cell_type": "code",
   "execution_count": 25,
   "metadata": {},
   "outputs": [],
   "source": [
    "stock.drop(columns=['date'], inplace=True, axis=1)"
   ]
  },
  {
   "cell_type": "code",
   "execution_count": 38,
   "metadata": {},
   "outputs": [
    {
     "name": "stdout",
     "output_type": "stream",
     "text": [
      "(460, 17) (460,) (154, 17) (154,)\n"
     ]
    }
   ],
   "source": [
    "# TODO 2   完成样本数据的构造，并随机分成训练和测试数据\n",
    "y = stock.loc[:,'y']\n",
    "X = stock.iloc[:, :-1]\n",
    "X_train, X_test, y_train, y_test = train_test_split(X, y, test_size=0.25, random_state=0)\n",
    "\n",
    "print (X_train.shape, y_train.shape, X_test.shape, y_test.shape)"
   ]
  },
  {
   "cell_type": "markdown",
   "metadata": {},
   "source": [
    "### 3. 利用随机森林训练模型\n",
    "\n",
    "> ```TODO3```：训练模型，通过交叉验证来训练。"
   ]
  },
  {
   "cell_type": "code",
   "execution_count": 42,
   "metadata": {},
   "outputs": [
    {
     "name": "stdout",
     "output_type": "stream",
     "text": [
      "{'max_depth': 3, 'n_estimators': 200}\n"
     ]
    }
   ],
   "source": [
    "# TODO: 训练随机森林模型，请尝试不同的参数，最后在测试集上输出最好的参数\n",
    "params_grid = {\n",
    "    'n_estimators':[200,300,400,500],\n",
    "    'max_depth':[3,4,5]\n",
    "}\n",
    "rfc = RandomForestClassifier(n_estimators=400,criterion='entropy',\n",
    "                             max_depth=5,min_samples_split=3,random_state=0)\n",
    "clf_grid = GridSearchCV(rfc, params_grid, cv=5, scoring='f1')\n",
    "\n",
    "clf_grid.fit(X_train,y_train)\n",
    "print(clf_grid.best_params_)"
   ]
  },
  {
   "cell_type": "code",
   "execution_count": 43,
   "metadata": {},
   "outputs": [
    {
     "name": "stdout",
     "output_type": "stream",
     "text": [
      "0.9956521739130435 0.9935064935064936\n"
     ]
    }
   ],
   "source": [
    "# 利用所得最优参数重新训练随机森林\n",
    "rfc = RandomForestClassifier(n_estimators=200,criterion='entropy',\n",
    "                             max_depth=3,min_samples_split=3,random_state=0)\n",
    "rfc.fit(X_train,y_train)\n",
    "print(rfc.score(X_train,y_train), rfc.score(X_test, y_test))"
   ]
  },
  {
   "cell_type": "markdown",
   "metadata": {},
   "source": [
    "拓展阅读： 从本项目中可以看到这里的核心其实就是一个一个指标，而且每一个指标都是通过大量的经验来构造出来的。 但有些复杂度的指标确实也比较难想出来。问题：有没有可能让计算机学出有用的指标呢？ 比如计算机可以学出这样的指标 = (close- open) * volum - close * close - open   虽然这个指标有点看不懂，但有可能是有效的，有没有可能让AI做这件事情？？？ 如果对这些感兴趣，可以参考一下下方链接： https://www.baidu.com/link?url=WmpaRS35js8T8gAUzaF6_rvdepe0OqpgmeU0fTxhXzMZnKCUXIECQeUFB6VTpFjg&wd=&eqid=b04a03b600117ba2000000035d88bea9"
   ]
  }
 ],
 "metadata": {
  "kernelspec": {
   "display_name": "Python 3",
   "language": "python",
   "name": "python3"
  },
  "language_info": {
   "codemirror_mode": {
    "name": "ipython",
    "version": 3
   },
   "file_extension": ".py",
   "mimetype": "text/x-python",
   "name": "python",
   "nbconvert_exporter": "python",
   "pygments_lexer": "ipython3",
   "version": "3.7.3"
  }
 },
 "nbformat": 4,
 "nbformat_minor": 2
}
