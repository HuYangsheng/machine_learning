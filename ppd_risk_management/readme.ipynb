{
 "cells": [
  {
   "cell_type": "markdown",
   "metadata": {},
   "source": [
    "# 技术小结"
   ]
  },
  {
   "cell_type": "markdown",
   "metadata": {},
   "source": [
    "## 一、数据清洗\n",
    "\n",
    "1、将缺失的数据标记为NaN：    利用```replace()```方法来实现\n",
    "        \n",
    "    data = data.replace( {-1:np.nan} )\n",
    "    \n",
    "2、删除缺失值可以使用```dropna(Thresh=thresh)```来设置删除缺失多少比例的数据。\n",
    "\n",
    "3、删除类别型变量中的“异常字”可以使用```str.find()```来判断，并做删除操作\n",
    "\n",
    "    data['UserInfo_8'] = [s[:-1] if s.find(\"市\")>0 else s[:] for s in data.UserInfo_8]\n",
    "    \n",
    "4、```select_dtypes(['object'])```可以用来筛选DataFrame中的指定类别的数据\n",
    "\n",
    "    df_obj = data.select_dtypes(['object'])\n",
    "    \n",
    "    data[df_obj.columns] = df_obj.apply(lambda x: x.str.strip())\n",
    "  \n",
    "## 二、特征工程\n",
    "\n",
    "1、日期数据可以使用```pd.to_datetime()```来转换\n",
    "\n",
    "2、利用```map()```和```lambda()```来高效实现特征的二值化\n",
    "\n",
    "    data['is_1312'] = data['year_month'].map(lambda x : 1 if x == '2013-12' else 0)\n",
    "    \n",
    "3、利用xgboost来做特征选择：\n",
    "\n",
    "- 首先将特征与标签组成数据集：df_1 = pd.concat([pd.get_dummies(data[\"UserInfo_2\"]),data[\"target\"]],axis = 1)\n",
    "- 再用这个数据创建X_train、y_train，并训练XGBClassifier\n",
    "- 接着通过```plot_importance()```来画出重要的特征：plot_importance(model_1, max_num_features=10, height=0.4)\n",
    "- 最后使用```SelectFromModel()```来完成特征的选择\n",
    "    * selection = SelectFromModel(xgb_clf, threshold=thresh, prefit=True)\n",
    "    * X_train_selected = selection.transform(X_train)\n",
    "\n",
    "4、pandas的独热编码```get_dummies(data)```可以指定data为具体的内容\n",
    "\n",
    "    data_1 = pd.get_dummies(data[dummies_columns])\n",
    "    \n",
    "## 三、模型训练\n",
    "\n",
    "1、```VotingClassifier()```是一个集成多个分类器进行投票的算法"
   ]
  }
 ],
 "metadata": {
  "kernelspec": {
   "display_name": "Python 3",
   "language": "python",
   "name": "python3"
  },
  "language_info": {
   "codemirror_mode": {
    "name": "ipython",
    "version": 3
   },
   "file_extension": ".py",
   "mimetype": "text/x-python",
   "name": "python",
   "nbconvert_exporter": "python",
   "pygments_lexer": "ipython3",
   "version": "3.7.3"
  }
 },
 "nbformat": 4,
 "nbformat_minor": 2
}
